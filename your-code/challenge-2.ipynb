{
 "cells": [
  {
   "cell_type": "markdown",
   "metadata": {},
   "source": [
    "## Challenge 2: Sets\n",
    "\n",
    "There are a lot to learn about Python Sets and the information presented in the lesson is limited due to its length. To learn Python Sets in depth you are strongly encouraged to review the W3Schools tutorial on [Python Sets Examples and Methods](https://www.w3schools.com/python/python_sets.asp) before you work on this lab. Some difficult questions in this lab have their solutions in the W3Schools tutorial.\n",
    "\n",
    "#### First, import the Python `random` libary"
   ]
  },
  {
   "cell_type": "code",
   "execution_count": 1,
   "metadata": {},
   "outputs": [],
   "source": [
    "import random"
   ]
  },
  {
   "cell_type": "markdown",
   "metadata": {},
   "source": [
    "#### In the cell below, create a list named `sample_list_1` with 80 random values. \n",
    "\n",
    "Requirements:\n",
    "\n",
    "* Each value is an integer falling between 0 and 100.\n",
    "* Each value in the list is unique.\n",
    "\n",
    "Print `sample_list_1` to review its values\n",
    "\n",
    "*Hint: use `random.sample` ([reference](https://docs.python.org/3/library/random.html#random.sample)).*"
   ]
  },
  {
   "cell_type": "code",
   "execution_count": 2,
   "metadata": {},
   "outputs": [
    {
     "name": "stdout",
     "output_type": "stream",
     "text": [
      "List (unique values): [70, 66, 100, 36, 16, 67, 81, 10, 42, 40, 50, 2, 33, 47, 24, 20, 83, 58, 94, 0, 87, 60, 84, 76, 98, 86, 38, 11, 12, 53, 90, 30, 43, 28, 15, 3, 55, 62, 45, 95, 73, 48, 17, 77, 64, 56, 75, 57, 79, 44, 13, 74, 14, 23, 54, 22, 51, 49, 52, 29, 7, 35, 34, 85, 1, 91, 92, 8, 6, 21, 31, 39, 32, 5, 71, 37, 88, 93, 69, 25]\n"
     ]
    }
   ],
   "source": [
    "# Your code here\n",
    "\n",
    "sample_list_1 = random.sample(list(range(0,101)), k=80)\n",
    "print(\"List (unique values): %s\" % sample_list_1)"
   ]
  },
  {
   "cell_type": "markdown",
   "metadata": {},
   "source": [
    "#### Convert `sample_list_1` to a set called `set1`. Print the length of the set. Is its length still 80?"
   ]
  },
  {
   "cell_type": "code",
   "execution_count": 3,
   "metadata": {},
   "outputs": [
    {
     "name": "stdout",
     "output_type": "stream",
     "text": [
      "Set1 (unique values): {0, 1, 2, 3, 5, 6, 7, 8, 10, 11, 12, 13, 14, 15, 16, 17, 20, 21, 22, 23, 24, 25, 28, 29, 30, 31, 32, 33, 34, 35, 36, 37, 38, 39, 40, 42, 43, 44, 45, 47, 48, 49, 50, 51, 52, 53, 54, 55, 56, 57, 58, 60, 62, 64, 66, 67, 69, 70, 71, 73, 74, 75, 76, 77, 79, 81, 83, 84, 85, 86, 87, 88, 90, 91, 92, 93, 94, 95, 98, 100}\n",
      "Length of set1: 80\n"
     ]
    }
   ],
   "source": [
    "# Your code here\n",
    "\n",
    "set1 = set(sample_list_1)\n",
    "print(\"Set1 (unique values): %s\" % (set1))\n",
    "\n",
    "print(\"Length of set1: %s\" % (len(set1)))"
   ]
  },
  {
   "cell_type": "markdown",
   "metadata": {},
   "source": [
    "#### Create another list named `sample_list_2` with 80 random values.\n",
    "\n",
    "Requirements:\n",
    "\n",
    "* Each value is an integer falling between 0 and 100.\n",
    "* The values in the list don't have to be unique.\n",
    "\n",
    "*Hint: Use a FOR loop.*"
   ]
  },
  {
   "cell_type": "code",
   "execution_count": 4,
   "metadata": {},
   "outputs": [
    {
     "name": "stdout",
     "output_type": "stream",
     "text": [
      "List (with duplicates): [42, 15, 83, 38, 61, 71, 9, 43, 34, 43, 66, 97, 9, 40, 19, 47, 84, 22, 30, 81, 88, 68, 14, 82, 35, 89, 25, 87, 75, 48, 95, 3, 46, 44, 92, 38, 5, 0, 39, 94, 50, 94, 99, 10, 22, 7, 72, 14, 87, 69, 74, 18, 1, 38, 70, 8, 6, 60, 20, 26, 54, 31, 89, 76, 3, 70, 25, 6, 33, 92, 23, 66, 63, 59, 45, 55, 91, 53, 72, 52]\n"
     ]
    }
   ],
   "source": [
    "# Your code here\n",
    "\n",
    "sample_list_2 = []\n",
    "\n",
    "for i in range (0, 80):\n",
    "    #print(i)\n",
    "    sample_list_2.append(random.randint(0,100))\n",
    "print(\"List (with duplicates): %s\" % sample_list_2)\n",
    "# print(\"Length of the list: %s\" % len(sample_list_2))"
   ]
  },
  {
   "cell_type": "markdown",
   "metadata": {},
   "source": [
    "#### Convert `sample_list_2` to a set called `set2`. Print the length of the set. Is its length still 80?"
   ]
  },
  {
   "cell_type": "code",
   "execution_count": 5,
   "metadata": {},
   "outputs": [
    {
     "name": "stdout",
     "output_type": "stream",
     "text": [
      "Set2 (with duplicates): {0, 1, 3, 5, 6, 7, 8, 9, 10, 14, 15, 18, 19, 20, 22, 23, 25, 26, 30, 31, 33, 34, 35, 38, 39, 40, 42, 43, 44, 45, 46, 47, 48, 50, 52, 53, 54, 55, 59, 60, 61, 63, 66, 68, 69, 70, 71, 72, 74, 75, 76, 81, 82, 83, 84, 87, 88, 89, 91, 92, 94, 95, 97, 99}\n",
      "Length of set2: 64\n"
     ]
    }
   ],
   "source": [
    "# Your code here\n",
    "\n",
    "set2 = set(sample_list_2)\n",
    "print(\"Set2 (with duplicates): %s\" % (set2))\n",
    "\n",
    "print(\"Length of set2: %s\" % (len(set2)))"
   ]
  },
  {
   "cell_type": "markdown",
   "metadata": {},
   "source": [
    "#### Identify the elements present in `set1` but not in `set2`. Assign the elements to a new set named `set3`."
   ]
  },
  {
   "cell_type": "code",
   "execution_count": 6,
   "metadata": {},
   "outputs": [
    {
     "name": "stdout",
     "output_type": "stream",
     "text": [
      "Set3: {2, 11, 12, 13, 16, 17, 21, 24, 28, 29, 32, 36, 37, 49, 51, 56, 57, 58, 62, 64, 67, 73, 77, 79, 85, 86, 90, 93, 98, 100}\n",
      "Length of set3: 30\n"
     ]
    }
   ],
   "source": [
    "# Your code here\n",
    "\n",
    "set3 = set1.difference(set2)\n",
    "print(\"Set3: %s\" % set3)\n",
    "\n",
    "print(\"Length of set3: %s\" % (len(set3)))"
   ]
  },
  {
   "cell_type": "markdown",
   "metadata": {},
   "source": [
    "#### Identify the elements present in `set2` but not in `set1`. Assign the elements to a new set named `set4`."
   ]
  },
  {
   "cell_type": "code",
   "execution_count": 7,
   "metadata": {},
   "outputs": [
    {
     "name": "stdout",
     "output_type": "stream",
     "text": [
      "Set4: {97, 99, 68, 72, 9, 46, 18, 19, 82, 89, 26, 59, 61, 63}\n",
      "Length of set4: 14\n"
     ]
    }
   ],
   "source": [
    "# Your code here\n",
    "\n",
    "set4 = set2.difference(set1)\n",
    "print(\"Set4: %s\" % set4)\n",
    "\n",
    "print(\"Length of set4: %s\" % (len(set4)))"
   ]
  },
  {
   "cell_type": "markdown",
   "metadata": {},
   "source": [
    "#### Now Identify the elements shared between `set1` and `set2`. Assign the elements to a new set named `set5`."
   ]
  },
  {
   "cell_type": "code",
   "execution_count": 8,
   "metadata": {},
   "outputs": [
    {
     "name": "stdout",
     "output_type": "stream",
     "text": [
      "Set5: {0, 1, 3, 5, 6, 7, 8, 10, 14, 15, 20, 22, 23, 25, 30, 31, 33, 34, 35, 38, 39, 40, 42, 43, 44, 45, 47, 48, 50, 52, 53, 54, 55, 60, 66, 69, 70, 71, 74, 75, 76, 81, 83, 84, 87, 88, 91, 92, 94, 95}\n",
      "Length of set5: 50\n"
     ]
    }
   ],
   "source": [
    "# Your code here\n",
    "\n",
    "set5 = set1.intersection(set2)\n",
    "print(\"Set5: %s\" % set5)\n",
    "\n",
    "print(\"Length of set5: %s\" % (len(set5)))"
   ]
  },
  {
   "cell_type": "markdown",
   "metadata": {},
   "source": [
    "#### What is the relationship among the following values:\n",
    "\n",
    "* len(set1)\n",
    "* len(set2)\n",
    "* len(set3)\n",
    "* len(set4)\n",
    "* len(set5)\n",
    "\n",
    "Use a math formular to represent that relationship. Test your formular with Python code."
   ]
  },
  {
   "cell_type": "markdown",
   "metadata": {},
   "source": [
    "#### Your formula here\n",
    "\n",
    "2 * len(set5) = (len(set1) + len(set2)) - (len(set3) + len(set4))"
   ]
  },
  {
   "cell_type": "code",
   "execution_count": 9,
   "metadata": {},
   "outputs": [
    {
     "name": "stdout",
     "output_type": "stream",
     "text": [
      "The formula is correct!\n"
     ]
    }
   ],
   "source": [
    "# Your code here\n",
    "\n",
    "num1 = 2 * len(set5) \n",
    "num2 = (len(set1) + len(set2)) - (len(set3) + len(set4))\n",
    "if num1 == num2:\n",
    "    print (\"The formula is correct!\")\n",
    "else:\n",
    "    print(\"Something is wrong\")\n",
    "    \n",
    "# QUESTION: an easy way to do it?"
   ]
  },
  {
   "cell_type": "markdown",
   "metadata": {},
   "source": [
    "#### Create an empty set called `set6`."
   ]
  },
  {
   "cell_type": "code",
   "execution_count": 10,
   "metadata": {},
   "outputs": [
    {
     "name": "stdout",
     "output_type": "stream",
     "text": [
      "set()\n"
     ]
    }
   ],
   "source": [
    "# Your code here\n",
    "\n",
    "set6 = set()\n",
    "print(set6)"
   ]
  },
  {
   "cell_type": "markdown",
   "metadata": {},
   "source": [
    "#### Add `set3` and `set5` to `set6` using the Python Set `update` method."
   ]
  },
  {
   "cell_type": "code",
   "execution_count": 11,
   "metadata": {},
   "outputs": [
    {
     "name": "stdout",
     "output_type": "stream",
     "text": [
      "Set6: {0, 1, 2, 3, 5, 6, 7, 8, 10, 11, 12, 13, 14, 15, 16, 17, 20, 21, 22, 23, 24, 25, 28, 29, 30, 31, 32, 33, 34, 35, 36, 37, 38, 39, 40, 42, 43, 44, 45, 47, 48, 49, 50, 51, 52, 53, 54, 55, 56, 57, 58, 60, 62, 64, 66, 67, 69, 70, 71, 73, 74, 75, 76, 77, 79, 81, 83, 84, 85, 86, 87, 88, 90, 91, 92, 93, 94, 95, 98, 100}\n"
     ]
    }
   ],
   "source": [
    "# Your code here\n",
    "\n",
    "set6.update(set3, set5)\n",
    "print(\"Set6: %s\" % set6)"
   ]
  },
  {
   "cell_type": "markdown",
   "metadata": {},
   "source": [
    "#### Check if `set1` and `set6` are equal."
   ]
  },
  {
   "cell_type": "code",
   "execution_count": 12,
   "metadata": {},
   "outputs": [
    {
     "name": "stdout",
     "output_type": "stream",
     "text": [
      "Uh! Equal!!!\n"
     ]
    }
   ],
   "source": [
    "# Your code here\n",
    "\n",
    "if set1 == set6:\n",
    "    print(\"Uh! Equal!!!\")\n",
    "else:\n",
    "    print(\"Mmmm... Nop. Something is different!\")"
   ]
  },
  {
   "cell_type": "markdown",
   "metadata": {},
   "source": [
    "#### Check if `set1` contains `set2` using the Python Set `issubset` method. Then check if `set1` contains `set3`.*"
   ]
  },
  {
   "cell_type": "code",
   "execution_count": 13,
   "metadata": {},
   "outputs": [
    {
     "name": "stdout",
     "output_type": "stream",
     "text": [
      "Does set1 contain set2? False\n",
      "Does set1 contain set3? True\n"
     ]
    }
   ],
   "source": [
    "# Your code here\n",
    "\n",
    "# ATTENTION. z = x.issubsset(y)\n",
    "# return True if ALL items set x are present in set y\n",
    "\n",
    "set12 = set2.issubset(set1)\n",
    "set13 = set3.issubset(set1)\n",
    "\n",
    "print(\"Does set1 contain set2? %s\" % set12)\n",
    "print(\"Does set1 contain set3? %s\" % set13)"
   ]
  },
  {
   "cell_type": "markdown",
   "metadata": {},
   "source": [
    "#### Using the Python Set `union` method, aggregate `set3`, `set4`, and `set5`. Then aggregate `set1` and `set2`. \n",
    "\n",
    "#### Check if the aggregated values are equal."
   ]
  },
  {
   "cell_type": "code",
   "execution_count": 14,
   "metadata": {},
   "outputs": [
    {
     "name": "stdout",
     "output_type": "stream",
     "text": [
      "Set3-5: {0, 1, 2, 3, 5, 6, 7, 8, 9, 10, 11, 12, 13, 14, 15, 16, 17, 18, 19, 20, 21, 22, 23, 24, 25, 26, 28, 29, 30, 31, 32, 33, 34, 35, 36, 37, 38, 39, 40, 42, 43, 44, 45, 46, 47, 48, 49, 50, 51, 52, 53, 54, 55, 56, 57, 58, 59, 60, 61, 62, 63, 64, 66, 67, 68, 69, 70, 71, 72, 73, 74, 75, 76, 77, 79, 81, 82, 83, 84, 85, 86, 87, 88, 89, 90, 91, 92, 93, 94, 95, 97, 98, 99, 100}\n",
      "---------------------------------------------------------------------------------------------------------------------------------------------------------------------\n",
      "Set1-5: {0, 1, 2, 3, 5, 6, 7, 8, 9, 10, 11, 12, 13, 14, 15, 16, 17, 18, 19, 20, 21, 22, 23, 24, 25, 26, 28, 29, 30, 31, 32, 33, 34, 35, 36, 37, 38, 39, 40, 42, 43, 44, 45, 46, 47, 48, 49, 50, 51, 52, 53, 54, 55, 56, 57, 58, 59, 60, 61, 62, 63, 64, 66, 67, 68, 69, 70, 71, 72, 73, 74, 75, 76, 77, 79, 81, 82, 83, 84, 85, 86, 87, 88, 89, 90, 91, 92, 93, 94, 95, 97, 98, 99, 100}\n"
     ]
    }
   ],
   "source": [
    "# Your code here\n",
    "\n",
    "set345 = set3.union(set4, set5)\n",
    "set12345 = set345.union(set1, set2)\n",
    "\n",
    "print(\"Set3-5: %s\" % set345)\n",
    "# print(len(set345))\n",
    "print(165*\"-\")\n",
    "print(\"Set1-5: %s\" % set12345)\n",
    "# print(len(set12345))"
   ]
  },
  {
   "cell_type": "markdown",
   "metadata": {},
   "source": [
    "#### Using the `pop` method, remove the first element from `set1`."
   ]
  },
  {
   "cell_type": "code",
   "execution_count": 15,
   "metadata": {},
   "outputs": [
    {
     "name": "stdout",
     "output_type": "stream",
     "text": [
      "Element: 0\n",
      "Remove the first element from set1: {1, 2, 3, 5, 6, 7, 8, 10, 11, 12, 13, 14, 15, 16, 17, 20, 21, 22, 23, 24, 25, 28, 29, 30, 31, 32, 33, 34, 35, 36, 37, 38, 39, 40, 42, 43, 44, 45, 47, 48, 49, 50, 51, 52, 53, 54, 55, 56, 57, 58, 60, 62, 64, 66, 67, 69, 70, 71, 73, 74, 75, 76, 77, 79, 81, 83, 84, 85, 86, 87, 88, 90, 91, 92, 93, 94, 95, 98, 100}\n",
      "79\n"
     ]
    }
   ],
   "source": [
    "# Your code here\n",
    "\n",
    "popset1 = set1.pop()\n",
    "\n",
    "print(\"Element: %s\" % popset1)\n",
    "print(\"Remove the first element from set1: %s\" % set1)\n",
    "print(len(set1))"
   ]
  },
  {
   "cell_type": "markdown",
   "metadata": {},
   "source": [
    "#### Remove every element in the following list from `set1` if they are present in the set. Print the remaining elements.\n",
    "\n",
    "```\n",
    "list_to_remove = [1, 9, 11, 19, 21, 29, 31, 39, 41, 49, 51, 59, 61, 69, 71, 79, 81, 89, 91, 99]\n",
    "```"
   ]
  },
  {
   "cell_type": "code",
   "execution_count": 16,
   "metadata": {},
   "outputs": [
    {
     "name": "stdout",
     "output_type": "stream",
     "text": [
      "Remove duplicates with list_to_remove: {2, 3, 5, 6, 7, 8, 10, 12, 13, 14, 15, 16, 17, 20, 22, 23, 24, 25, 28, 30, 32, 33, 34, 35, 36, 37, 38, 40, 42, 43, 44, 45, 47, 48, 50, 52, 53, 54, 55, 56, 57, 58, 60, 62, 64, 66, 67, 70, 73, 74, 75, 76, 77, 83, 84, 85, 86, 87, 88, 90, 92, 93, 94, 95, 98, 100}\n"
     ]
    }
   ],
   "source": [
    "# Your code here\n",
    "\n",
    "list_to_remove = [1, 9, 11, 19, 21, 29, 31, 39, 41, 49, 51, 59, 61, 69, 71, 79, 81, 89, 91, 99]\n",
    "\n",
    "set1.difference_update(list_to_remove)\n",
    "\n",
    "print(\"Remove duplicates with list_to_remove: %s\" % set1)\n",
    "# print(len(set1))"
   ]
  },
  {
   "cell_type": "code",
   "execution_count": null,
   "metadata": {},
   "outputs": [],
   "source": []
  }
 ],
 "metadata": {
  "kernelspec": {
   "display_name": "Python 3",
   "language": "python",
   "name": "python3"
  },
  "language_info": {
   "codemirror_mode": {
    "name": "ipython",
    "version": 3
   },
   "file_extension": ".py",
   "mimetype": "text/x-python",
   "name": "python",
   "nbconvert_exporter": "python",
   "pygments_lexer": "ipython3",
   "version": "3.7.4"
  }
 },
 "nbformat": 4,
 "nbformat_minor": 4
}
